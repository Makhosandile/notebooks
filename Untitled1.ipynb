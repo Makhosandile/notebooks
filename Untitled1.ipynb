{
 "cells": [
  {
   "cell_type": "code",
   "execution_count": 1,
   "metadata": {},
   "outputs": [],
   "source": [
    "import numpy as np\n",
    "import pandas as pd"
   ]
  },
  {
   "cell_type": "code",
   "execution_count": 2,
   "metadata": {},
   "outputs": [],
   "source": [
    "df = pd.read_csv('current.csv')"
   ]
  },
  {
   "cell_type": "code",
   "execution_count": 5,
   "metadata": {},
   "outputs": [
    {
     "data": {
      "text/html": [
       "<div>\n",
       "<style scoped>\n",
       "    .dataframe tbody tr th:only-of-type {\n",
       "        vertical-align: middle;\n",
       "    }\n",
       "\n",
       "    .dataframe tbody tr th {\n",
       "        vertical-align: top;\n",
       "    }\n",
       "\n",
       "    .dataframe thead th {\n",
       "        text-align: right;\n",
       "    }\n",
       "</style>\n",
       "<table border=\"1\" class=\"dataframe\">\n",
       "  <thead>\n",
       "    <tr style=\"text-align: right;\">\n",
       "      <th></th>\n",
       "      <th>Series Name</th>\n",
       "      <th>Series Code</th>\n",
       "      <th>country</th>\n",
       "      <th>Country Code</th>\n",
       "      <th>year</th>\n",
       "      <th>Time Code</th>\n",
       "      <th>balance</th>\n",
       "    </tr>\n",
       "  </thead>\n",
       "  <tbody>\n",
       "    <tr>\n",
       "      <th>0</th>\n",
       "      <td>Current account balance (% of GDP)</td>\n",
       "      <td>BN.CAB.XOKA.GD.ZS</td>\n",
       "      <td>South Africa</td>\n",
       "      <td>ZAF</td>\n",
       "      <td>1960.0</td>\n",
       "      <td>YR1960</td>\n",
       "      <td>0.646831</td>\n",
       "    </tr>\n",
       "    <tr>\n",
       "      <th>1</th>\n",
       "      <td>Current account balance (% of GDP)</td>\n",
       "      <td>BN.CAB.XOKA.GD.ZS</td>\n",
       "      <td>South Africa</td>\n",
       "      <td>ZAF</td>\n",
       "      <td>1961.0</td>\n",
       "      <td>YR1961</td>\n",
       "      <td>3.388938</td>\n",
       "    </tr>\n",
       "    <tr>\n",
       "      <th>2</th>\n",
       "      <td>Current account balance (% of GDP)</td>\n",
       "      <td>BN.CAB.XOKA.GD.ZS</td>\n",
       "      <td>South Africa</td>\n",
       "      <td>ZAF</td>\n",
       "      <td>1962.0</td>\n",
       "      <td>YR1962</td>\n",
       "      <td>5.057661</td>\n",
       "    </tr>\n",
       "    <tr>\n",
       "      <th>3</th>\n",
       "      <td>Current account balance (% of GDP)</td>\n",
       "      <td>BN.CAB.XOKA.GD.ZS</td>\n",
       "      <td>South Africa</td>\n",
       "      <td>ZAF</td>\n",
       "      <td>1963.0</td>\n",
       "      <td>YR1963</td>\n",
       "      <td>2.065072</td>\n",
       "    </tr>\n",
       "    <tr>\n",
       "      <th>4</th>\n",
       "      <td>Current account balance (% of GDP)</td>\n",
       "      <td>BN.CAB.XOKA.GD.ZS</td>\n",
       "      <td>South Africa</td>\n",
       "      <td>ZAF</td>\n",
       "      <td>1964.0</td>\n",
       "      <td>YR1964</td>\n",
       "      <td>-1.551957</td>\n",
       "    </tr>\n",
       "    <tr>\n",
       "      <th>...</th>\n",
       "      <td>...</td>\n",
       "      <td>...</td>\n",
       "      <td>...</td>\n",
       "      <td>...</td>\n",
       "      <td>...</td>\n",
       "      <td>...</td>\n",
       "      <td>...</td>\n",
       "    </tr>\n",
       "    <tr>\n",
       "      <th>95</th>\n",
       "      <td>Current account balance (% of GDP)</td>\n",
       "      <td>BN.CAB.XOKA.GD.ZS</td>\n",
       "      <td>Afghanistan</td>\n",
       "      <td>AFG</td>\n",
       "      <td>1994.0</td>\n",
       "      <td>YR1994</td>\n",
       "      <td>NaN</td>\n",
       "    </tr>\n",
       "    <tr>\n",
       "      <th>96</th>\n",
       "      <td>Current account balance (% of GDP)</td>\n",
       "      <td>BN.CAB.XOKA.GD.ZS</td>\n",
       "      <td>Afghanistan</td>\n",
       "      <td>AFG</td>\n",
       "      <td>1995.0</td>\n",
       "      <td>YR1995</td>\n",
       "      <td>NaN</td>\n",
       "    </tr>\n",
       "    <tr>\n",
       "      <th>97</th>\n",
       "      <td>Current account balance (% of GDP)</td>\n",
       "      <td>BN.CAB.XOKA.GD.ZS</td>\n",
       "      <td>Afghanistan</td>\n",
       "      <td>AFG</td>\n",
       "      <td>1996.0</td>\n",
       "      <td>YR1996</td>\n",
       "      <td>NaN</td>\n",
       "    </tr>\n",
       "    <tr>\n",
       "      <th>98</th>\n",
       "      <td>Current account balance (% of GDP)</td>\n",
       "      <td>BN.CAB.XOKA.GD.ZS</td>\n",
       "      <td>Afghanistan</td>\n",
       "      <td>AFG</td>\n",
       "      <td>1997.0</td>\n",
       "      <td>YR1997</td>\n",
       "      <td>NaN</td>\n",
       "    </tr>\n",
       "    <tr>\n",
       "      <th>99</th>\n",
       "      <td>Current account balance (% of GDP)</td>\n",
       "      <td>BN.CAB.XOKA.GD.ZS</td>\n",
       "      <td>Afghanistan</td>\n",
       "      <td>AFG</td>\n",
       "      <td>1998.0</td>\n",
       "      <td>YR1998</td>\n",
       "      <td>NaN</td>\n",
       "    </tr>\n",
       "  </tbody>\n",
       "</table>\n",
       "<p>100 rows × 7 columns</p>\n",
       "</div>"
      ],
      "text/plain": [
       "                           Series Name        Series Code       country  \\\n",
       "0   Current account balance (% of GDP)  BN.CAB.XOKA.GD.ZS  South Africa   \n",
       "1   Current account balance (% of GDP)  BN.CAB.XOKA.GD.ZS  South Africa   \n",
       "2   Current account balance (% of GDP)  BN.CAB.XOKA.GD.ZS  South Africa   \n",
       "3   Current account balance (% of GDP)  BN.CAB.XOKA.GD.ZS  South Africa   \n",
       "4   Current account balance (% of GDP)  BN.CAB.XOKA.GD.ZS  South Africa   \n",
       "..                                 ...                ...           ...   \n",
       "95  Current account balance (% of GDP)  BN.CAB.XOKA.GD.ZS   Afghanistan   \n",
       "96  Current account balance (% of GDP)  BN.CAB.XOKA.GD.ZS   Afghanistan   \n",
       "97  Current account balance (% of GDP)  BN.CAB.XOKA.GD.ZS   Afghanistan   \n",
       "98  Current account balance (% of GDP)  BN.CAB.XOKA.GD.ZS   Afghanistan   \n",
       "99  Current account balance (% of GDP)  BN.CAB.XOKA.GD.ZS   Afghanistan   \n",
       "\n",
       "   Country Code    year Time Code   balance  \n",
       "0           ZAF  1960.0    YR1960  0.646831  \n",
       "1           ZAF  1961.0    YR1961  3.388938  \n",
       "2           ZAF  1962.0    YR1962  5.057661  \n",
       "3           ZAF  1963.0    YR1963  2.065072  \n",
       "4           ZAF  1964.0    YR1964 -1.551957  \n",
       "..          ...     ...       ...       ...  \n",
       "95          AFG  1994.0    YR1994       NaN  \n",
       "96          AFG  1995.0    YR1995       NaN  \n",
       "97          AFG  1996.0    YR1996       NaN  \n",
       "98          AFG  1997.0    YR1997       NaN  \n",
       "99          AFG  1998.0    YR1998       NaN  \n",
       "\n",
       "[100 rows x 7 columns]"
      ]
     },
     "execution_count": 5,
     "metadata": {},
     "output_type": "execute_result"
    }
   ],
   "source": [
    "df.head(100)"
   ]
  },
  {
   "cell_type": "code",
   "execution_count": 6,
   "metadata": {},
   "outputs": [
    {
     "data": {
      "text/plain": [
       "Series Name        3\n",
       "Series Code        5\n",
       "country            5\n",
       "Country Code       5\n",
       "year               5\n",
       "Time Code          5\n",
       "balance         9606\n",
       "dtype: int64"
      ]
     },
     "execution_count": 6,
     "metadata": {},
     "output_type": "execute_result"
    }
   ],
   "source": [
    "df.isnull().sum()"
   ]
  },
  {
   "cell_type": "code",
   "execution_count": 8,
   "metadata": {},
   "outputs": [
    {
     "name": "stdout",
     "output_type": "stream",
     "text": [
      "<class 'pandas.core.frame.DataFrame'>\n",
      "RangeIndex: 16231 entries, 0 to 16230\n",
      "Data columns (total 7 columns):\n",
      " #   Column        Non-Null Count  Dtype  \n",
      "---  ------        --------------  -----  \n",
      " 0   Series Name   16228 non-null  object \n",
      " 1   Series Code   16226 non-null  object \n",
      " 2   country       16226 non-null  object \n",
      " 3   Country Code  16226 non-null  object \n",
      " 4   year          16226 non-null  float64\n",
      " 5   Time Code     16226 non-null  object \n",
      " 6   balance       6625 non-null   float64\n",
      "dtypes: float64(2), object(5)\n",
      "memory usage: 887.8+ KB\n"
     ]
    }
   ],
   "source": [
    "df.info()"
   ]
  },
  {
   "cell_type": "code",
   "execution_count": null,
   "metadata": {},
   "outputs": [],
   "source": []
  }
 ],
 "metadata": {
  "kernelspec": {
   "display_name": "Python 3",
   "language": "python",
   "name": "python3"
  },
  "language_info": {
   "codemirror_mode": {
    "name": "ipython",
    "version": 3
   },
   "file_extension": ".py",
   "mimetype": "text/x-python",
   "name": "python",
   "nbconvert_exporter": "python",
   "pygments_lexer": "ipython3",
   "version": "3.8.5"
  }
 },
 "nbformat": 4,
 "nbformat_minor": 4
}
